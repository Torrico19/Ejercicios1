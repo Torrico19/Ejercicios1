{
  "nbformat": 4,
  "nbformat_minor": 0,
  "metadata": {
    "colab": {
      "provenance": [],
      "authorship_tag": "ABX9TyMZWU6jyI01uSy/LKKcFKao",
      "include_colab_link": true
    },
    "kernelspec": {
      "name": "python3",
      "display_name": "Python 3"
    },
    "language_info": {
      "name": "python"
    }
  },
  "cells": [
    {
      "cell_type": "markdown",
      "metadata": {
        "id": "view-in-github",
        "colab_type": "text"
      },
      "source": [
        "<a href=\"https://colab.research.google.com/github/Torrico19/Ejercicios1/blob/main/Ejercicios1.ipynb\" target=\"_parent\"><img src=\"https://colab.research.google.com/assets/colab-badge.svg\" alt=\"Open In Colab\"/></a>"
      ]
    },
    {
      "cell_type": "markdown",
      "source": [
        "**<n>Ejercicio 1 <n>**\n",
        "\n",
        "Usa una variable para representar un número. Luego, usando esa variable, cree un mensaje que revele su número. Imprime ese mensaje."
      ],
      "metadata": {
        "id": "WB_yzk5Eu9zx"
      }
    },
    {
      "cell_type": "code",
      "source": [
        "num = 1000\n",
        "print(f\"EL número es {num}\")"
      ],
      "metadata": {
        "colab": {
          "base_uri": "https://localhost:8080/"
        },
        "id": "3r5wxFxRvQij",
        "outputId": "145dafcb-fe86-4362-d7de-6bb45c036de2"
      },
      "execution_count": null,
      "outputs": [
        {
          "output_type": "stream",
          "name": "stdout",
          "text": [
            "EL número es 1000\n"
          ]
        }
      ]
    },
    {
      "cell_type": "markdown",
      "source": [
        "**Ejercicio 2**\n",
        "\n",
        "Escriba un ciclo que solicite al usuario que ingrese una serie de ingredientes para la pizza hasta que ingrese un valor de 'salir'. A medida que ingresen cada ingrediente, imprima un mensaje que diga que agregará ese ingrediente a su pizza."
      ],
      "metadata": {
        "id": "pYLviffPSs6h"
      }
    },
    {
      "cell_type": "code",
      "source": [
        "ingredientes = \"Ingrese sus ingredientes ó\"\n",
        "ingredientes += \"\\nEscribe 'salir' para finalizar\"\n",
        "\n",
        "message = \"\"\n",
        "while message != 'salir':\n",
        "  message = input(ingredientes)\n",
        "  print(\"Se agregará el ingrediente a su pizza\")\n",
        "\n",
        "if message == 'salir':\n",
        "  print(\"salir\")"
      ],
      "metadata": {
        "id": "zNQI3hdlTNXQ",
        "colab": {
          "base_uri": "https://localhost:8080/"
        },
        "outputId": "a624464f-7ac0-4add-cd00-840d9402c916"
      },
      "execution_count": 7,
      "outputs": [
        {
          "output_type": "stream",
          "name": "stdout",
          "text": [
            "Ingrese sus ingredientes ó\n",
            "Escribe 'salir' para finalizarjamon\n",
            "Se agregará el ingrediente a su pizza\n",
            "Ingrese sus ingredientes ó\n",
            "Escribe 'salir' para finalizarsalir\n",
            "Se agregará el ingrediente a su pizza\n",
            "salir\n"
          ]
        }
      ]
    },
    {
      "cell_type": "code",
      "source": [
        "ingredientes = \"Ingrese sus ingredientes ó escribe 'SALIR' para finalizar: \"\n",
        "active = True\n",
        "while active:\n",
        "  message = input(ingredientes)\n",
        "\n",
        "  \n",
        "  if message == 'salir':\n",
        "      active = False\n",
        "      print(\"salir\")\n",
        "      break\n",
        "  else:\n",
        "    print(\"se agregará el ingrediente a su pizza\")\n",
        "\n"
      ],
      "metadata": {
        "colab": {
          "base_uri": "https://localhost:8080/"
        },
        "id": "KuMkRXhtYgTj",
        "outputId": "6cdd3ba2-4460-4eec-f90f-c38e731a1a23"
      },
      "execution_count": 4,
      "outputs": [
        {
          "output_type": "stream",
          "name": "stdout",
          "text": [
            "Ingrese sus ingredientes ó escribe 'SALIR' para finalizar: queso\n",
            "se agregará el ingrediente a su pizza\n",
            "holaa\n",
            "Ingrese sus ingredientes ó escribe 'SALIR' para finalizar: salir\n",
            "salir\n"
          ]
        }
      ]
    },
    {
      "cell_type": "markdown",
      "source": [
        "**Ejercicio 3**\n",
        "\n",
        "Un cine cobra diferentes precios de boletos dependiendo de la edad de una persona. Si una persona es menor de 3 años, la entrada es gratuita; si son entre 3 y 12, el boleto cuesta s/. 10; y si son mayores de 12 años, el boleto cuesta s/. 15. Escriba un ciclo en el que pregunte a los usuarios su edad y luego dígales el costo de su boleto de cine."
      ],
      "metadata": {
        "id": "YClW99IATTi7"
      }
    },
    {
      "cell_type": "code",
      "source": [
        "edad = \"¿Cuantos años tienes?: \"\n",
        "\n",
        "while True:\n",
        "  respuesta = input(edad)\n",
        "  if respuesta in [\"SALIR\", \"salir\", \"Salir\"]:\n",
        "    break\n",
        "  \n",
        "  if int(respuesta) < 3:\n",
        "    print(\"La entrada es gratuita\")\n",
        "  elif int(respuesta) <= 12:\n",
        "    print(\"El boleto cuesta S/. 10\")\n",
        "  else:\n",
        "    print(\"El boleto cuesta S/. 15\")\n"
      ],
      "metadata": {
        "colab": {
          "base_uri": "https://localhost:8080/"
        },
        "id": "3YwozcP0khy7",
        "outputId": "56c3f89f-a4f3-40da-c82f-1a8b95782621"
      },
      "execution_count": 19,
      "outputs": [
        {
          "name": "stdout",
          "output_type": "stream",
          "text": [
            "¿Cuantos años tienes?: Salir\n"
          ]
        }
      ]
    },
    {
      "cell_type": "code",
      "source": [],
      "metadata": {
        "id": "tqVwd25iTX4m"
      },
      "execution_count": null,
      "outputs": []
    },
    {
      "cell_type": "markdown",
      "source": [
        "**Ejercicio 4**\n",
        "\n",
        "Piensa en al menos tres animales diferentes que tengan una característica común. Guarde los nombres de estos animales en una lista y luego use un ciclo for para imprimir el nombre de cada animal.\n",
        "\n",
        "Modifique su programa para imprimir una declaración sobre cada animal, como Un perro sería una gran mascota. Agregue una línea al final de su programa indicando lo que estos animales tienen en común. Podría escribir una oración como ¡Cualquiera de estos animales sería una gran mascota!"
      ],
      "metadata": {
        "id": "THHzqGRoTfk6"
      }
    },
    {
      "cell_type": "code",
      "source": [],
      "metadata": {
        "id": "HndM42gaTvc6"
      },
      "execution_count": null,
      "outputs": []
    },
    {
      "cell_type": "markdown",
      "source": [
        "**Ejercicio 5**\n",
        "\n",
        "Escriba una función llamada favorite_book() que acepte un parámetro, título. La función debe imprimir un mensaje, como Uno de mis libros favoritos es Alicia en el país de las maravillas. Llame a la función, asegurándose de incluir el título de un libro como argumento en la llamada a la función."
      ],
      "metadata": {
        "id": "cv6uGIJiT066"
      }
    },
    {
      "cell_type": "code",
      "source": [],
      "metadata": {
        "id": "mBUKWLpCT2g4"
      },
      "execution_count": null,
      "outputs": []
    },
    {
      "cell_type": "markdown",
      "source": [
        "**Ejercicio 6**\n",
        "\n",
        "Comience con su programa del ejercicio anterior. Escriba un ciclo while que permita a los usuarios ingresar el artista y el título de un álbum. Una vez que tenga esa información, llame a make_album() con la entrada del usuario e imprima el diccionario que se crea. Asegúrese de incluir un valor de salida en el ciclo while."
      ],
      "metadata": {
        "id": "dXUTjoL3T3Ny"
      }
    },
    {
      "cell_type": "code",
      "source": [],
      "metadata": {
        "id": "9iYIdquwU4lO"
      },
      "execution_count": null,
      "outputs": []
    },
    {
      "cell_type": "markdown",
      "source": [
        "**Ejercicio 7**\n",
        "\n",
        "Escribe una función que acepte una lista de artículos que una persona quiere en un sándwich. La función debe tener un parámetro que recopile tantos elementos como proporcione la llamada a la función, y debe imprimir un resumen del sándwich que se está ordenando. Llame a la función tres veces, usando un número diferente de argumentos cada vez."
      ],
      "metadata": {
        "id": "kekpLyNKU5Tw"
      }
    },
    {
      "cell_type": "code",
      "source": [],
      "metadata": {
        "id": "HTlpkgT2VV0L"
      },
      "execution_count": null,
      "outputs": []
    },
    {
      "cell_type": "markdown",
      "source": [
        "**Ejercicio 8**\n",
        "\n",
        "Escribe una función que almacene información sobre un automóvil en un diccionario. La función siempre debe recibir un fabricante y un nombre de modelo. Entonces debería aceptar un número arbitrario de argumentos de palabras clave. Llame a la función con la información requerida y otros dos pares de nombre y valor, como un color o una función opcional. Su función debería funcionar para una llamada como esta:\n",
        "\n",
        "coche = make_car('subaru', 'outback', color='blue', tow_package=True)\n",
        "\n",
        "Imprima el diccionario que se devuelve para asegurarse de que toda la información se almacenó correctamente."
      ],
      "metadata": {
        "id": "bu2O_Y-XVWLv"
      }
    },
    {
      "cell_type": "code",
      "source": [],
      "metadata": {
        "id": "-_QyHcikVjvE"
      },
      "execution_count": null,
      "outputs": []
    },
    {
      "cell_type": "markdown",
      "source": [
        "**Ejercicio 9**\n",
        "\n",
        "Haz una clase llamada Usuario. Cree dos atributos llamados first_name y last_name, y luego cree varios otros atributos que normalmente se almacenan en un perfil de usuario. Cree un método llamado describe_user() que imprima un resumen de la información del usuario. Cree otro método llamado greeting_user() que imprima un saludo personalizado para el usuario.\n",
        "\n",
        "Cree varias instancias que representen a diferentes usuarios y llame a ambos métodos para cada usuario."
      ],
      "metadata": {
        "id": "2DeRmYQNVwM4"
      }
    },
    {
      "cell_type": "code",
      "source": [],
      "metadata": {
        "id": "xzLesdkrVxkM"
      },
      "execution_count": null,
      "outputs": []
    },
    {
      "cell_type": "markdown",
      "source": [],
      "metadata": {
        "id": "LjGPaskQVx8S"
      }
    }
  ]
}