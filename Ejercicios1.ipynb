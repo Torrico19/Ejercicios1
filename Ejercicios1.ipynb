{
  "nbformat": 4,
  "nbformat_minor": 0,
  "metadata": {
    "colab": {
      "provenance": [],
      "authorship_tag": "ABX9TyOoqLEHjeEG5enSXsAeKPgp",
      "include_colab_link": true
    },
    "kernelspec": {
      "name": "python3",
      "display_name": "Python 3"
    },
    "language_info": {
      "name": "python"
    }
  },
  "cells": [
    {
      "cell_type": "markdown",
      "metadata": {
        "id": "view-in-github",
        "colab_type": "text"
      },
      "source": [
        "<a href=\"https://colab.research.google.com/github/Torrico19/Ejercicios1/blob/main/Ejercicios1.ipynb\" target=\"_parent\"><img src=\"https://colab.research.google.com/assets/colab-badge.svg\" alt=\"Open In Colab\"/></a>"
      ]
    },
    {
      "cell_type": "markdown",
      "source": [
        "**<n>Ejercicio 1 <n>**\n",
        "\n",
        "Usa una variable para representar un número. Luego, usando esa variable, cree un mensaje que revele su número. Imprime ese mensaje."
      ],
      "metadata": {
        "id": "WB_yzk5Eu9zx"
      }
    },
    {
      "cell_type": "code",
      "source": [
        "num = 1000\n",
        "print(f\"EL número es {num}\")"
      ],
      "metadata": {
        "colab": {
          "base_uri": "https://localhost:8080/"
        },
        "id": "3r5wxFxRvQij",
        "outputId": "145dafcb-fe86-4362-d7de-6bb45c036de2"
      },
      "execution_count": null,
      "outputs": [
        {
          "output_type": "stream",
          "name": "stdout",
          "text": [
            "EL número es 1000\n"
          ]
        }
      ]
    },
    {
      "cell_type": "markdown",
      "source": [
        "**Ejercicio 2**\n",
        "\n",
        "Escriba un ciclo que solicite al usuario que ingrese una serie de ingredientes para la pizza hasta que ingrese un valor de 'salir'. A medida que ingresen cada ingrediente, imprima un mensaje que diga que agregará ese ingrediente a su pizza."
      ],
      "metadata": {
        "id": "pYLviffPSs6h"
      }
    },
    {
      "cell_type": "code",
      "source": [
        "ingredientes = \"Ingrese sus ingredientes ó\"\n",
        "ingredientes += \"\\nEscribe 'salir' para finalizar\"\n",
        "\n",
        "message = \"\"\n",
        "while message != 'salir':\n",
        "  message = input(ingredientes)\n",
        "  print(\"Se agregará el ingrediente a su pizza\")\n",
        "\n",
        "if message == 'salir':\n",
        "  print(\"salir\")"
      ],
      "metadata": {
        "id": "zNQI3hdlTNXQ",
        "colab": {
          "base_uri": "https://localhost:8080/"
        },
        "outputId": "a624464f-7ac0-4add-cd00-840d9402c916"
      },
      "execution_count": null,
      "outputs": [
        {
          "output_type": "stream",
          "name": "stdout",
          "text": [
            "Ingrese sus ingredientes ó\n",
            "Escribe 'salir' para finalizarjamon\n",
            "Se agregará el ingrediente a su pizza\n",
            "Ingrese sus ingredientes ó\n",
            "Escribe 'salir' para finalizarsalir\n",
            "Se agregará el ingrediente a su pizza\n",
            "salir\n"
          ]
        }
      ]
    },
    {
      "cell_type": "code",
      "source": [
        "ingredientes = \"Ingrese sus ingredientes ó escribe 'SALIR' para finalizar: \"\n",
        "active = True\n",
        "while active:\n",
        "  message = input(ingredientes)\n",
        "\n",
        "  \n",
        "  if message == 'salir':\n",
        "      active = False\n",
        "      print(\"salir\")\n",
        "      break\n",
        "  else:\n",
        "    print(\"se agregará el ingrediente a su pizza\")\n",
        "\n"
      ],
      "metadata": {
        "colab": {
          "base_uri": "https://localhost:8080/"
        },
        "id": "KuMkRXhtYgTj",
        "outputId": "6cdd3ba2-4460-4eec-f90f-c38e731a1a23"
      },
      "execution_count": null,
      "outputs": [
        {
          "output_type": "stream",
          "name": "stdout",
          "text": [
            "Ingrese sus ingredientes ó escribe 'SALIR' para finalizar: queso\n",
            "se agregará el ingrediente a su pizza\n",
            "holaa\n",
            "Ingrese sus ingredientes ó escribe 'SALIR' para finalizar: salir\n",
            "salir\n"
          ]
        }
      ]
    },
    {
      "cell_type": "markdown",
      "source": [
        "**Ejercicio 3**\n",
        "\n",
        "Un cine cobra diferentes precios de boletos dependiendo de la edad de una persona. Si una persona es menor de 3 años, la entrada es gratuita; si son entre 3 y 12, el boleto cuesta s/. 10; y si son mayores de 12 años, el boleto cuesta s/. 15. Escriba un ciclo en el que pregunte a los usuarios su edad y luego dígales el costo de su boleto de cine."
      ],
      "metadata": {
        "id": "YClW99IATTi7"
      }
    },
    {
      "cell_type": "code",
      "source": [
        "edad = \"¿Cuantos años tienes?: \"\n",
        "\n",
        "while True:\n",
        "  respuesta = input(edad)\n",
        "  if respuesta in [\"SALIR\", \"salir\", \"Salir\"]:\n",
        "    break\n",
        "  \n",
        "  if int(respuesta) < 3:\n",
        "    print(\"La entrada es gratuita\")\n",
        "  elif int(respuesta) <= 12:\n",
        "    print(\"El boleto cuesta S/. 10\")\n",
        "  else:\n",
        "    print(\"El boleto cuesta S/. 15\")\n"
      ],
      "metadata": {
        "colab": {
          "base_uri": "https://localhost:8080/"
        },
        "id": "3YwozcP0khy7",
        "outputId": "56c3f89f-a4f3-40da-c82f-1a8b95782621"
      },
      "execution_count": null,
      "outputs": [
        {
          "name": "stdout",
          "output_type": "stream",
          "text": [
            "¿Cuantos años tienes?: Salir\n"
          ]
        }
      ]
    },
    {
      "cell_type": "code",
      "source": [],
      "metadata": {
        "id": "tqVwd25iTX4m"
      },
      "execution_count": null,
      "outputs": []
    },
    {
      "cell_type": "markdown",
      "source": [
        "**Ejercicio 4**\n",
        "\n",
        "Piensa en al menos tres animales diferentes que tengan una característica común. Guarde los nombres de estos animales en una lista y luego use un ciclo for para imprimir el nombre de cada animal.\n",
        "\n",
        "Modifique su programa para imprimir una declaración sobre cada animal, como Un perro sería una gran mascota. Agregue una línea al final de su programa indicando lo que estos animales tienen en común. Podría escribir una oración como ¡Cualquiera de estos animales sería una gran mascota!"
      ],
      "metadata": {
        "id": "THHzqGRoTfk6"
      }
    },
    {
      "cell_type": "code",
      "source": [
        "mamiferos = ['perro', 'gato', 'conejo']\n",
        "\n",
        "for m in mamiferos:\n",
        "  print(f\"Un {m}, sería una gran mascota\")\n",
        "\n",
        "print(\"¡Cualquiera de estos animales, son animales domésticos!\")"
      ],
      "metadata": {
        "id": "HndM42gaTvc6",
        "colab": {
          "base_uri": "https://localhost:8080/"
        },
        "outputId": "92e7ea94-82f5-4572-d9a1-c9ed94beb34e"
      },
      "execution_count": null,
      "outputs": [
        {
          "output_type": "stream",
          "name": "stdout",
          "text": [
            "Un perro sería una gran mascota\n",
            "Un gato sería una gran mascota\n",
            "Un conejo sería una gran mascota\n",
            "¡Cualquiera de estos animales, son animales domésticos!\n"
          ]
        }
      ]
    },
    {
      "cell_type": "markdown",
      "source": [
        "**Ejercicio 5**\n",
        "\n",
        "---\n",
        "\n",
        "\n",
        "\n",
        "Escriba una función llamada make_album() que cree un diccionario que describa un álbum de música. La función debe tomar el nombre de un artista y el título de un álbum, y debe devolver un diccionario que contenga estos dos datos. Utilice la función para crear tres diccionarios que representen diferentes álbumes. Imprima cada valor devuelto para mostrar que los diccionarios están almacenando la información del álbum correctamente.\n",
        "\n",
        "Use None para agregar un parámetro opcional a make_album() que le permita almacenar la cantidad de canciones en un álbum. Si la línea de llamada incluye un valor para la cantidad de canciones, agregue ese valor al diccionario del álbum. Realice al menos una nueva llamada de función que incluya la cantidad de canciones en un álbum."
      ],
      "metadata": {
        "id": "u1E5waU5F0Au"
      }
    },
    {
      "cell_type": "code",
      "source": [
        "def make_album(nombre_artista, nombre_titulo, cantidad_canciones=None):\n",
        "  if cantidad_canciones:\n",
        "    album = {\"artista\" : nombre_artista, \"titulo\" : nombre_titulo, \"canciones\": cantidad_canciones}  \n",
        "  else:\n",
        "    album = {\"artista\" : nombre_artista, \"titulo\" : nombre_titulo}\n",
        "\n",
        "  print(album)\n",
        "\n",
        "\n",
        "make_album(\"juan\", \"album1\")\n",
        "\n",
        "make_album(\"julio\", \"album2\")\n",
        "\n",
        "make_album(\"andres\", \"album3\", \"20 canciones\")\n"
      ],
      "metadata": {
        "id": "rqvpIWJUZrvA",
        "outputId": "2b18b6bf-2c81-4a5a-9801-72598899bd07",
        "colab": {
          "base_uri": "https://localhost:8080/"
        }
      },
      "execution_count": null,
      "outputs": [
        {
          "output_type": "stream",
          "name": "stdout",
          "text": [
            "{'artista': 'juan', 'titulo': 'album1'}\n",
            "{'artista': 'julio', 'titulo': 'album2'}\n",
            "{'artista': 'andres', 'titulo': 'album3', 'canciones': '20 canciones'}\n"
          ]
        }
      ]
    },
    {
      "cell_type": "markdown",
      "source": [
        "**Ejercicio 6**\n",
        "\n",
        "Comience con su programa del ejercicio anterior. Escriba un ciclo while que permita a los usuarios ingresar el artista y el título de un álbum. Una vez que tenga esa información, llame a make_album() con la entrada del usuario e imprima el diccionario que se crea. Asegúrese de incluir un valor de salida en el ciclo while."
      ],
      "metadata": {
        "id": "dXUTjoL3T3Ny"
      }
    },
    {
      "cell_type": "code",
      "source": [
        "while True:\n",
        "  artista = input(\"Ingresar el nombre del artista: \")\n",
        "  if artista == \"SALIR\":\n",
        "    break \n",
        "  album = input(\"Ingresar el nombre del album: \") \n",
        "  if album == \"SALIR\":\n",
        "    break\n",
        "\n",
        "  make_album(artista, album)\n"
      ],
      "metadata": {
        "id": "9iYIdquwU4lO",
        "outputId": "d2fb8153-4212-4fca-9efd-867dedefed26",
        "colab": {
          "base_uri": "https://localhost:8080/"
        }
      },
      "execution_count": null,
      "outputs": [
        {
          "name": "stdout",
          "output_type": "stream",
          "text": [
            "Ingresar el nombre del artista: CESAR\n",
            "Ingresar el nombre del album: ALBUM1\n",
            "{'artista': 'CESAR', 'titulo': 'ALBUM1'}\n",
            "Ingresar el nombre del artista: SALIR\n"
          ]
        }
      ]
    },
    {
      "cell_type": "markdown",
      "source": [
        "**Ejercicio 7**\n",
        "\n",
        "Escribe una función que almacene información sobre un automóvil en un diccionario. La función siempre debe recibir un fabricante y un nombre de modelo. Entonces debería aceptar un número arbitrario de argumentos de palabras clave. Llame a la función con la información requerida y otros dos pares de nombre y valor, como un color o una función opcional. Su función debería funcionar para una llamada como esta:\n",
        "\n",
        "coche = make_car('subaru', 'outback', color='blue', tow_package=True)\n",
        "\n",
        "Imprima el diccionario que se devuelve para asegurarse de que toda la información se almacenó correctamente."
      ],
      "metadata": {
        "id": "bu2O_Y-XVWLv"
      }
    },
    {
      "cell_type": "code",
      "source": [
        "def make_automovil(fabricante, modelo, **info_adicional):\n",
        "    info_adicional['nombre_fabricante'] = fabricante\n",
        "    info_adicional['nombre_modelo'] = modelo\n",
        "    return  info_adicional\n",
        "\n",
        "tipo_automovil = make_automovil(\"mazda\", \"CX5\", color = \"negro\", sistema = \"automatico\")\n",
        "print(tipo_automovil)"
      ],
      "metadata": {
        "id": "-_QyHcikVjvE",
        "outputId": "0a51bc55-c2b8-4536-fe1f-3479fe408175",
        "colab": {
          "base_uri": "https://localhost:8080/"
        }
      },
      "execution_count": null,
      "outputs": [
        {
          "output_type": "stream",
          "name": "stdout",
          "text": [
            "{'color': 'negro', 'sistema': 'automatico', 'nombre_fabricante': 'mazda', 'nombre_modelo': 'CX5'}\n"
          ]
        }
      ]
    },
    {
      "cell_type": "markdown",
      "source": [
        "**Ejercicio 8**\n",
        "\n",
        "Haz una clase llamada Usuario. Cree dos atributos llamados first_name y last_name, y luego cree varios otros atributos que normalmente se almacenan en un perfil de usuario. Cree un método llamado describe_user() que imprima un resumen de la información del usuario. Cree otro método llamado greeting_user() que imprima un saludo personalizado para el usuario.\n",
        "\n",
        "Cree varias instancias que representen a diferentes usuarios y llame a ambos métodos para cada usuario."
      ],
      "metadata": {
        "id": "2DeRmYQNVwM4"
      }
    },
    {
      "cell_type": "code",
      "source": [
        "class Usuario:\n",
        "    "
      ],
      "metadata": {
        "id": "xzLesdkrVxkM"
      },
      "execution_count": null,
      "outputs": []
    },
    {
      "cell_type": "markdown",
      "source": [
        "**Ejercicio 9**\n",
        "\n",
        "Use el tercer argumento de la función range() para hacer una lista de los números impares del 1 al 20. Use un bucle for para imprimir cada número."
      ],
      "metadata": {
        "id": "LjGPaskQVx8S"
      }
    },
    {
      "cell_type": "code",
      "source": [
        "  for i in range(1,21):\n",
        "\t  if i%2!=0:\n",
        "\t\t  print(i)"
      ],
      "metadata": {
        "id": "dFK7P33GH3Zl",
        "outputId": "d2943d17-5767-46a1-bda1-0deb5bbe57d3",
        "colab": {
          "base_uri": "https://localhost:8080/"
        }
      },
      "execution_count": null,
      "outputs": [
        {
          "output_type": "stream",
          "name": "stdout",
          "text": [
            "1\n",
            "3\n",
            "5\n",
            "7\n",
            "9\n",
            "11\n",
            "13\n",
            "15\n",
            "17\n",
            "19\n"
          ]
        }
      ]
    },
    {
      "cell_type": "markdown",
      "source": [
        "**Ejercicio 10**\n",
        "\n",
        "Haga una lista de los múltiplos de 3 de 3 a 30. Use un ciclo for para imprimir los números en su lista."
      ],
      "metadata": {
        "id": "z491ZUagH3uc"
      }
    },
    {
      "cell_type": "code",
      "source": [
        "  [x for x in range(3, 31, 3)]\n"
      ],
      "metadata": {
        "id": "uLf5wCu_IALT",
        "outputId": "c703f427-88e1-4898-ad4e-c4113115a185",
        "colab": {
          "base_uri": "https://localhost:8080/"
        }
      },
      "execution_count": null,
      "outputs": [
        {
          "output_type": "execute_result",
          "data": {
            "text/plain": [
              "[3, 6, 9, 12, 15, 18, 21, 24, 27, 30]"
            ]
          },
          "metadata": {},
          "execution_count": 38
        }
      ]
    },
    {
      "cell_type": "markdown",
      "source": [
        "**Ejercicio 11**\n",
        "\n",
        "Haga una lista de los primeros 10 cubos (es decir, el cubo de cada número entero del 1 al 10) y use un ciclo for para imprimir el valor de cada cubo."
      ],
      "metadata": {
        "id": "bxE_aqtCIBBR"
      }
    },
    {
      "cell_type": "code",
      "source": [
        "cubo = []\n",
        "\n",
        "for value in range(1,11):\n",
        "    cubo.append(value**3)\n",
        "    \n",
        "print(cubo)"
      ],
      "metadata": {
        "id": "SzxxDnn-IHVz",
        "outputId": "4d5a33d5-0f5c-4342-96cf-501dcc37ec92",
        "colab": {
          "base_uri": "https://localhost:8080/"
        }
      },
      "execution_count": null,
      "outputs": [
        {
          "output_type": "stream",
          "name": "stdout",
          "text": [
            "[1, 8, 27, 64, 125, 216, 343, 512, 729, 1000]\n"
          ]
        }
      ]
    },
    {
      "cell_type": "markdown",
      "source": [
        "**Ejercicio 12**\n",
        "\n",
        "Use una lista de comprensión para generar una lista de los primeros 10 cubos."
      ],
      "metadata": {
        "id": "b9I6xe-kIHxA"
      }
    },
    {
      "cell_type": "code",
      "source": [
        "cubos = [x**3 for x in range(1, 11)]\n",
        "print(cubos)"
      ],
      "metadata": {
        "id": "VUaQirXLILfr",
        "outputId": "3b15db62-d0c7-4263-a19d-fdb413c52dde",
        "colab": {
          "base_uri": "https://localhost:8080/"
        }
      },
      "execution_count": null,
      "outputs": [
        {
          "output_type": "stream",
          "name": "stdout",
          "text": [
            "[1, 8, 27, 64, 125, 216, 343, 512, 729, 1000]\n"
          ]
        }
      ]
    },
    {
      "cell_type": "markdown",
      "source": [
        "---\n",
        "\n",
        "<b> Ejercicio 13</b>\n",
        "\n",
        "Haga una copia de la lista de pizzas y llámela friend_pizzas. Luego, haz lo siguiente:\n",
        "\n",
        "* Agregue una nueva pizza a la lista original.\n",
        "* Agrega una pizza diferente a la lista friend_pizzas.\n",
        "* Demuestra que tienes dos listas separadas. Imprima el mensaje Mis pizzas favoritas son: y luego use un bucle for para imprimir la primera lista. Imprima el mensaje Las pizzas favoritas de mi amigo son: y luego use un bucle for para imprimir la segunda lista. Asegúrese de que cada pizza nueva se almacene en la lista adecuada."
      ],
      "metadata": {
        "id": "rCZ3xeQ-IRdI"
      }
    },
    {
      "cell_type": "code",
      "source": [
        "my_foods = ['americana', 'pepperoni', 'vegetariana']\n",
        "friend_pizzas = my_foods"
      ],
      "metadata": {
        "id": "mIPprV9nITm7"
      },
      "execution_count": null,
      "outputs": []
    },
    {
      "cell_type": "code",
      "source": [
        "my_foods.append('fullmeat')"
      ],
      "metadata": {
        "id": "zPpSO7i8vWk7"
      },
      "execution_count": null,
      "outputs": []
    },
    {
      "cell_type": "code",
      "source": [
        "print(my_foods)"
      ],
      "metadata": {
        "id": "PkQuYFuL3Z1u",
        "outputId": "70693df9-05d1-4f9d-df87-7a45545073ef",
        "colab": {
          "base_uri": "https://localhost:8080/"
        }
      },
      "execution_count": null,
      "outputs": [
        {
          "output_type": "stream",
          "name": "stdout",
          "text": [
            "['americana', 'pepperoni', 'vegetariana', 'fullmeat', 'romana', 'fullmeat']\n"
          ]
        }
      ]
    },
    {
      "cell_type": "markdown",
      "source": [
        "**Ejercicio 14**\n",
        "\n",
        "Use un diccionario para almacenar los números favoritos de las personas. Piensa en cinco nombres y utilízalos como llaves en tu diccionario. Piense en un número favorito para cada persona y guárdelo como un valor en su diccionario. Escriba el nombre de cada persona y su número favorito."
      ],
      "metadata": {
        "id": "zXyX98p3IUqV"
      }
    },
    {
      "cell_type": "code",
      "source": [
        "numeros_favoritos = {\"Carlos\" : 5, \"Maria\" : 20, \"Marco\" : 2, \"Cesar\" : 1, \"Jennifer\" : 3}\n",
        "\n",
        "favorito1 = numeros_favoritos ['Carlos']\n",
        "print(f\"El numero favorito de Carlos, es {favorito1}\")\n",
        "\n",
        "favorito1 = numeros_favoritos ['Maria']\n",
        "print(f\"El numero favorito de Maria, es {favorito1}\")\n",
        "\n",
        "favorito1 = numeros_favoritos ['Marco']\n",
        "print(f\"El numero favorito de Marco, es {favorito1}\")\n",
        "\n",
        "favorito1 = numeros_favoritos ['Cesar']\n",
        "print(f\"El numero favorito de Cesar, es {favorito1}\")\n",
        "\n",
        "favorito1 = numeros_favoritos ['Jennifer']\n",
        "print(f\"El numero favorito de Jennifer, es {favorito1}\")"
      ],
      "metadata": {
        "id": "WOLU5HhkLEsm",
        "outputId": "dcdd2a9d-094e-442d-b955-30eed47dae88",
        "colab": {
          "base_uri": "https://localhost:8080/"
        }
      },
      "execution_count": null,
      "outputs": [
        {
          "output_type": "stream",
          "name": "stdout",
          "text": [
            "El numero favorito de Carlos, es 5\n",
            "El numero favorito de Maria, es 20\n",
            "El numero favorito de Marco, es 2\n",
            "El numero favorito de Cesar, es 1\n",
            "El numero favorito de Jennifer, es 3\n"
          ]
        }
      ]
    },
    {
      "cell_type": "markdown",
      "source": [
        "**Ejercicio 15**\n",
        "\n",
        "Piense en cinco palabras de programación que haya aprendido. Utilice estas palabras como llaves en su glosario y almacene sus significados como valores.\n",
        "\n",
        "Imprima cada palabra y su significado como una salida con un formato ordenado. Puede imprimir la palabra seguida de dos puntos y luego su significado, o imprimir la palabra en una línea y luego imprimir su significado con sangría en una segunda línea. Utilice el carácter de nueva línea (\\n) para insertar una línea en blanco entre cada par de palabra y significado en su salida."
      ],
      "metadata": {
        "id": "Zt6vZZBGLFGb"
      }
    },
    {
      "cell_type": "code",
      "source": [
        "palabras_programacion = {'if' : 'si', 'true' : 'verdadero', 'while' : 'mientras', 'class' : 'clases', 'def' : 'funcion'}\n",
        "print(palabras_programacion)"
      ],
      "metadata": {
        "id": "brCB6lwHLIVn",
        "outputId": "6be025d8-5add-4882-e2a6-04d7b04c261f",
        "colab": {
          "base_uri": "https://localhost:8080/"
        }
      },
      "execution_count": 3,
      "outputs": [
        {
          "output_type": "stream",
          "name": "stdout",
          "text": [
            "{'if': 'si', 'true': 'verdadero', 'while': 'mientras', 'class': 'clases', 'def': 'funcion'}\n"
          ]
        }
      ]
    },
    {
      "cell_type": "markdown",
      "source": [
        "**Ejercicio 16**\n",
        "\n",
        "Haga un diccionario que contenga tres ríos principales y el país por el que pasa cada río. Un par clave-valor podría ser 'nilo': 'egipto'.\n",
        "\n",
        "Use un bucle para imprimir una oración sobre cada río, como El Nilo atraviesa Egipto.\n",
        "Utilice un bucle para imprimir el nombre de cada río incluido en el diccionario.\n",
        "Use un bucle para imprimir el nombre de cada país incluido en el diccionario."
      ],
      "metadata": {
        "id": "0HJplhFyLIyR"
      }
    },
    {
      "cell_type": "code",
      "source": [],
      "metadata": {
        "id": "4qAxtRTIMokO"
      },
      "execution_count": null,
      "outputs": []
    },
    {
      "cell_type": "markdown",
      "source": [
        "**Ejercicio 17**\n",
        "\n",
        "Haz una lista de las personas que deberían participar en la encuesta de idiomas favoritos. Incluye algunos nombres que ya estén en el diccionario y otros que no. Recorra la lista de personas que deberían realizar la encuesta. Si ya han realizado la encuesta, imprima un mensaje agradeciéndoles por responder. Si aún no han realizado la encuesta, imprima un mensaje invitándoles a realizar la encuesta."
      ],
      "metadata": {
        "id": "io9L2LhuMo8j"
      }
    },
    {
      "cell_type": "code",
      "source": [],
      "metadata": {
        "id": "Ux6ITDSiMsRS"
      },
      "execution_count": null,
      "outputs": []
    },
    {
      "cell_type": "markdown",
      "source": [
        "**Ejercicio 18**\n",
        "\n",
        "Cree tres nuevos diccionarios que representen a diferentes personas y almacene los tres diccionarios en una lista llamada personas. Recorra su lista de personas. Mientras recorre la lista, imprima todo lo que sabe sobre cada persona."
      ],
      "metadata": {
        "id": "80r88S3YM1qr"
      }
    },
    {
      "cell_type": "code",
      "source": [],
      "metadata": {
        "id": "21e_KlblM51_"
      },
      "execution_count": null,
      "outputs": []
    },
    {
      "cell_type": "markdown",
      "source": [
        "**Ejercicio 19**\n",
        "\n",
        "Haga varios diccionarios, donde cada diccionario represente una mascota diferente. En cada diccionario, incluya el tipo de animal y el nombre del dueño. Guarde estos diccionarios en una lista llamada mascotas. A continuación, recorra su lista y, mientras lo hace, imprima todo lo que sepa sobre cada mascota."
      ],
      "metadata": {
        "id": "XlJqE1IVM-Pp"
      }
    },
    {
      "cell_type": "code",
      "source": [],
      "metadata": {
        "id": "qrsD8l3pNDVr"
      },
      "execution_count": null,
      "outputs": []
    },
    {
      "cell_type": "markdown",
      "source": [
        "<b> Ejercicio 20</b>\n",
        "\n",
        "Haga un diccionario llamado lugares_favoritos. Piense en tres nombres para usar como llaves en el diccionario y almacene de uno a tres lugares favoritos para cada persona. Recorre el diccionario e imprime el nombre de cada persona y sus lugares favoritos."
      ],
      "metadata": {
        "id": "pGwy7TezNIGZ"
      }
    },
    {
      "cell_type": "code",
      "source": [],
      "metadata": {
        "id": "VnkQ7n7DNJpM"
      },
      "execution_count": null,
      "outputs": []
    },
    {
      "cell_type": "markdown",
      "source": [
        "<b> Ejercicio 21</b>\n",
        "\n",
        "Haz un diccionario llamado ciudades. Usa los nombres de tres ciudades como llaves en tu diccionario. Cree un diccionario de información sobre cada ciudad e incluya el país en el que se encuentra la ciudad, su población aproximada y un dato sobre esa ciudad. Las claves para el diccionario de cada ciudad deben ser algo como país, población y hecho. Imprime el nombre de cada ciudad y toda la información que tengas almacenada sobre ella."
      ],
      "metadata": {
        "id": "UTrBg-nwNLjW"
      }
    },
    {
      "cell_type": "code",
      "source": [],
      "metadata": {
        "id": "aU4ybehcNU8l"
      },
      "execution_count": null,
      "outputs": []
    },
    {
      "cell_type": "markdown",
      "source": [
        "<b> Ejercicio 22</b>\n",
        "\n",
        "Ahora estamos trabajando con ejemplos que son lo suficientemente complejos como para que puedan extenderse de varias maneras. Utilice uno de los programas de este laboratorio y amplíelo agregando nuevas claves y valores, cambiando el contexto del programa o mejorando el formato de la salida."
      ],
      "metadata": {
        "id": "33pfUkQ9NVVV"
      }
    },
    {
      "cell_type": "code",
      "source": [],
      "metadata": {
        "id": "1-KpFqprNZru"
      },
      "execution_count": null,
      "outputs": []
    }
  ]
}