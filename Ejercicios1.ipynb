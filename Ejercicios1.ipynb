{
  "nbformat": 4,
  "nbformat_minor": 0,
  "metadata": {
    "colab": {
      "provenance": [],
      "authorship_tag": "ABX9TyOOBXyoMiHPHU5XnZUq3t61",
      "include_colab_link": true
    },
    "kernelspec": {
      "name": "python3",
      "display_name": "Python 3"
    },
    "language_info": {
      "name": "python"
    }
  },
  "cells": [
    {
      "cell_type": "markdown",
      "metadata": {
        "id": "view-in-github",
        "colab_type": "text"
      },
      "source": [
        "<a href=\"https://colab.research.google.com/github/Torrico19/Ejercicios1/blob/main/Ejercicios1.ipynb\" target=\"_parent\"><img src=\"https://colab.research.google.com/assets/colab-badge.svg\" alt=\"Open In Colab\"/></a>"
      ]
    },
    {
      "cell_type": "markdown",
      "source": [
        "<n>Ejercicio 1 <n>\n"
      ],
      "metadata": {
        "id": "WB_yzk5Eu9zx"
      }
    },
    {
      "cell_type": "code",
      "source": [],
      "metadata": {
        "id": "3r5wxFxRvQij"
      },
      "execution_count": null,
      "outputs": []
    },
    {
      "cell_type": "markdown",
      "source": [],
      "metadata": {
        "id": "7VIuOsh5vQP_"
      }
    }
  ]
}